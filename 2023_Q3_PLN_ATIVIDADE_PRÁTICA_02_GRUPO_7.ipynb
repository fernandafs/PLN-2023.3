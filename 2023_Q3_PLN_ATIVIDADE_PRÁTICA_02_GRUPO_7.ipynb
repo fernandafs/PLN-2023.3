{
  "nbformat": 4,
  "nbformat_minor": 0,
  "metadata": {
    "colab": {
      "provenance": [],
      "collapsed_sections": [
        "eD_AJQhrwJQ6",
        "gWsBYQNtxmum"
      ]
    },
    "kernelspec": {
      "name": "python3",
      "display_name": "Python 3"
    }
  },
  "cells": [
    {
      "cell_type": "markdown",
      "metadata": {
        "id": "Y6QILOdpOjwv"
      },
      "source": [
        "# **Processamento de Linguagem Natural [2023.Q3]**\n",
        "Prof. Alexandre Donizeti Alves"
      ]
    },
    {
      "cell_type": "markdown",
      "metadata": {
        "id": "8m67OOx9MX_3"
      },
      "source": [
        "### **ATIVIDADE PRÁTICA 02 [Extração e Pré-processamento de Dados + Expressões Regulares]**\n"
      ]
    },
    {
      "cell_type": "markdown",
      "metadata": {
        "id": "5Gk0nHKabBT-"
      },
      "source": [
        "A **ATIVIDADE PRÁTICA 02** deve ser feita utilizando o **Google Colab** com uma conta\n",
        "sua vinculada ao Gmail. O link do seu notebook, armazenado no Google Drive, além do link de um repositório no GitHub e os principais resultados da atividade, devem ser enviados usando o seguinte formulário:\n",
        "\n",
        "> https://forms.gle/83JggUJ1mhgWviEaA\n",
        "\n",
        "\n",
        "**IMPORTANTE**: A submissão deve ser feita até o dia 16/10 (segunda-feira) APENAS POR UM INTEGRANTE DA EQUIPE, até às 23h59. Por favor, lembre-se de dar permissão de ACESSO IRRESTRITO para o professor da disciplina de PLN."
      ]
    },
    {
      "cell_type": "markdown",
      "metadata": {
        "id": "D7hJlilKM485"
      },
      "source": [
        "### **EQUIPE**\n",
        "---"
      ]
    },
    {
      "cell_type": "markdown",
      "source": [
        "**POR FAVOR, PREENCHER OS INTEGRANDES DA SUA EQUIPE:**\n",
        "\n",
        "\n",
        "**Integrante 01:**\n",
        "\n",
        "- Fernanda Felix da Silva RA: 11201921613\n",
        "\n",
        "**Integrante 02:**\n",
        "\n",
        "- Ricardo Juniti Kawai RA: 11202021571\n",
        "\n",
        "**Integrante 03:**\n",
        "\n",
        "- Samuel Brito da Silva RA: 11201810515"
      ],
      "metadata": {
        "id": "tnIArN0QY-Ek"
      }
    },
    {
      "cell_type": "markdown",
      "source": [],
      "metadata": {
        "id": "o3U1JqI3Ntx_"
      }
    },
    {
      "cell_type": "markdown",
      "source": [
        "### **LIVRO**\n",
        "---"
      ],
      "metadata": {
        "id": "6yExhaebs-nD"
      }
    },
    {
      "cell_type": "markdown",
      "source": [
        "`Processamento de Linguagem Natural - Conceitos, Técnicas e Aplicações em Português.`\n",
        "\n",
        ">\n",
        "\n",
        "Disponível gratuitamente em:\n",
        "  \n",
        "  > https://brasileiraspln.com/livro-pln/1a-edicao/.\n",
        "\n",
        "\n",
        "**POR FAVOR, PREENCHER OS CAPITULOS SELECIONADOS PARA A SUA EQUIPE:**\n",
        "\n",
        "`Primeiro capítulo: `\n",
        "\n",
        "- Cápitulo 7 (Link): https://brasileiraspln.com/livro-pln/1a-edicao/parte4/cap7/cap7.html\n",
        "\n",
        "\n",
        "`Segundo capítulo:`\n",
        "\n",
        "- Cápitulo 19 (Link): https://brasileiraspln.com/livro-pln/1a-edicao/parte8/cap19/cap19.html\n",
        "\n"
      ],
      "metadata": {
        "id": "DjJM_qhEZRy6"
      }
    },
    {
      "cell_type": "markdown",
      "metadata": {
        "id": "EtjgWQRzNphL"
      },
      "source": [
        "### **DESCRIÇÃO**\n",
        "---"
      ]
    },
    {
      "cell_type": "markdown",
      "source": [
        "Implementar um `notebook` no `Google Colab` para identificar ERROS em 2 (DOIS) capítulos do livro **Processamento de Linguagem Natural - Conceitos, Técnicas e Aplicações em Português**.\n",
        "\n",
        "Os capítulos devem ser selecionados na seguinte planilha:\n",
        "\n",
        "https://docs.google.com/spreadsheets/d/1ZutzQ3v1OJgsgzCvCwxXlRIQ3ChXNlHNvB63JQvYsbo/edit?usp=sharing\n",
        "\n",
        ">\n",
        "\n",
        "**IMPORTANTE:** É obrigatório usar o e-mail da UFABC.\n",
        "\n",
        ">\n",
        "\n",
        "\n",
        "**DICA:** Por favor, insira o seu nome ou da sua equipe na ordem definida na planilha. Por exemplo, se a linha correspondente ao o GRUPO 5 já foi preenchida, a próxima equipe (GRUPO 6) deverá ser informada na próxima linha da planilha.\n",
        "\n"
      ],
      "metadata": {
        "id": "fXTwkiiGs2BV"
      }
    },
    {
      "cell_type": "markdown",
      "source": [
        "### **TIPOS DE ERROS**\n",
        "---\n"
      ],
      "metadata": {
        "id": "eD_AJQhrwJQ6"
      }
    },
    {
      "cell_type": "markdown",
      "source": [
        "**IMPORTANTE**: consulta feita no ChatGPT\n",
        ">\n",
        "\n",
        "Um `programa Python` que utilize `expressões regulares` pode ajudar a identificar vários **tipos de erros** comuns em **livros**, especialmente erros de formatação e problemas relacionados à consistência do texto. Aqui estão alguns exemplos de erros comuns que podem ser identificados usando expressões regulares:\n",
        "\n",
        "* Erros de gramática e ortografia: erros de digitação, concordância verbal e nominal, uso incorreto de pontuação e outros erros gramaticais.\n",
        "\n",
        "* Problemas de formatação: você pode usar expressões regulares para encontrar erros de formatação, como espaços em excesso, tabulações inadequadas ou alinhamentos inconsistentes.\n",
        "\n",
        "* Abreviações e acrônimos: você pode usar expressões regulares para encontrar abreviações ou acrônimos que não foram definidos ou explicados anteriormente no texto.\n",
        "\n",
        "* Citações e referências: expressões regulares podem ser úteis para localizar citações ou referências que precisam de formatação especial.\n",
        "\n",
        "* OUTROS TIPOS DE ERROS: não considerem apenas os tipos de erros citados acima.\n",
        "\n",
        "\n",
        "**IMPORTANTE:** Lembre-se de que expressões regulares podem ser poderosas, mas também complexas. Dependendo da complexidade dos erros que você deseja identificar, pode ser necessário ajustar as expressões regulares de acordo com as características específicas do seu texto. Além disso, é importante ter em mente que as expressões regulares podem não ser a melhor ferramenta para todos os tipos de erros em livros, especialmente problemas mais contextuais ou semânticos, que podem exigir abordagens de PLN mais avançadas.\n",
        "\n",
        "\n",
        "\n"
      ],
      "metadata": {
        "id": "gz0DTI0KYmn6"
      }
    },
    {
      "cell_type": "markdown",
      "source": [
        "### **CRITÉRIOS DE AVALIAÇÃO**\n",
        "---\n"
      ],
      "metadata": {
        "id": "gWsBYQNtxmum"
      }
    },
    {
      "cell_type": "markdown",
      "source": [
        "A equipe que **realizar mais testes** e/ou **identificar mais erros** terá o peso diminuido na AVALIAÇÃO (Prova Escrita) em **25%** (caindo de 40 para 30). Os testes e possíveis erros devem ser contabizados de maneira separada.\n",
        "\n",
        ">\n",
        "\n",
        "Além disso, **por se tratar de um livro**, há um teste importante que deve ser feito. Lembre-se que o teste deve ser feito utilizando expressões regulares. A equipe que realizar esse teste, mesmo que o erro não ocorra nos capítulos selecionados, terá o peso diminuido na AVALIAÇÃO (Prova Escrita) em **25%** (caindo de 40 para 30).\n",
        "\n",
        "> A equipe pode considerar outros capítulos do livro para tentar identificar esse tipo de erro.\n",
        "\n",
        "**Se for a mesma equipe, o peso da avaliação será reduzido em 50% (caindo de 40 para 20)**.\n",
        "\n",
        ">\n",
        "\n",
        "**IMPORTANTE**: a diminuição no peso da AVALIAÇÃO será aplicado para todos os membros da equipe. Esse critério será aplicado apenas para uma equipe, considerando como critério de desempate a equipe que entregar primeiro a atividade no formulário.\n",
        "\n",
        "\n",
        "\n"
      ],
      "metadata": {
        "id": "5iHdx4BXYruQ"
      }
    },
    {
      "cell_type": "markdown",
      "source": [
        "### **IMPLEMENTAÇÃO**\n",
        "---"
      ],
      "metadata": {
        "id": "nw09lujGvfjc"
      }
    },
    {
      "cell_type": "code",
      "source": [
        "pip install unidecode"
      ],
      "metadata": {
        "colab": {
          "base_uri": "https://localhost:8080/"
        },
        "id": "doFL3K4_0niY",
        "outputId": "2cf335e7-edaa-42c9-8d38-9a2fd32545d3"
      },
      "execution_count": null,
      "outputs": [
        {
          "output_type": "stream",
          "name": "stdout",
          "text": [
            "Collecting unidecode\n",
            "  Downloading Unidecode-1.3.7-py3-none-any.whl (235 kB)\n",
            "\u001b[2K     \u001b[90m━━━━━━━━━━━━━━━━━━━━━━━━━━━━━━━━━━━━━━━━\u001b[0m \u001b[32m235.5/235.5 kB\u001b[0m \u001b[31m3.7 MB/s\u001b[0m eta \u001b[36m0:00:00\u001b[0m\n",
            "\u001b[?25hInstalling collected packages: unidecode\n",
            "Successfully installed unidecode-1.3.7\n"
          ]
        }
      ]
    },
    {
      "cell_type": "code",
      "source": [
        "import requests\n",
        "from bs4 import BeautifulSoup\n",
        "import re\n",
        "import random\n",
        "#from unidecode import unidecode\n",
        "\n",
        "def encontra_erros(link, user_list):\n",
        "\n",
        "  # Solicitação HTTP para obter o conteúdo da página.\n",
        "  response = requests.get(link, headers={'User-Agent': random.choice(user_list)})\n",
        "\n",
        "  # Valida se a solicitação foi bem sucedida e caso seja, transforma retira os\n",
        "  # paragráfos de texto dentro da página e também inicializa um array para\n",
        "  #guardar os erros.\n",
        "  if response.status_code == 200:\n",
        "    soup = BeautifulSoup(response.content, 'html.parser')\n",
        "    paragrafos = soup.find_all('p')\n",
        "\n",
        "    # Retirada de URL das validações\n",
        "    padrao_url = r'http[s]?://(?:[a-zA-Z]|[0-9]|[$-_@.&+]|[!*\\\\(\\\\),]|(?:%[0-9a-fA-F][0-9a-fA-F]))+'\n",
        "\n",
        "    texto_capitulo = []\n",
        "\n",
        "    for paragrafo in paragrafos:\n",
        "      texto = paragrafo.get_text()\n",
        "      texto_sem_urls = re.sub(padrao_url, '', texto)\n",
        "      texto_capitulo.append(texto_sem_urls)\n",
        "\n",
        "    erros = []\n",
        "    count = 0\n",
        "    aux = 0\n",
        "    somador = 0\n",
        "    num_errosmn = 0\n",
        "    num_errosconcnum =0\n",
        "    num_erros_espaco = 0\n",
        "    num_erros_espaco_pontuacao = 0\n",
        "    num_erros_pontuacao = 0\n",
        "    num_erros_espaco_parenteses = 0\n",
        "\n",
        "    for texto in texto_capitulo:\n",
        "\n",
        "      # Encontrar espaços em excesso\n",
        "      espacos_em_excesso = re.findall(r'\\s{2,}', texto)\n",
        "      if espacos_em_excesso:\n",
        "          count = count + 1\n",
        "\n",
        "\n",
        "      # Encontrar palavras iniciadas em minúsculo após pontuações (.!?), retirando os casos de abreviações (ex: etc.)\n",
        "      erros_minusculo = re.findall(r'(?<!\\b(?:(e\\.g)|(i\\.e)|etc))[.!?]\\s+([a-z][a-zA-Z]*)', texto)\n",
        "      if erros_minusculo:\n",
        "          somador = somador + 1\n",
        "\n",
        "      # Encontrar paragráfos iniciados com letra minúscula\n",
        "      erros_paragrafo = re.findall(r'^\\s*[a-z][a-zA-Z]*', texto)\n",
        "      if erros_paragrafo:\n",
        "          aux = aux + 1\n",
        "\n",
        "      # Encontrar palavras com N/M inseridas erradas como \"enpatar\", \"paramdo\"\n",
        "\n",
        "      #erros_m_n = re.findall(r'n[BPbp]|m[^bpaeiou\\s]',re.sub(r'[^A-Za-z\\s]', '', texto))\n",
        "      #if erros_m_n:\n",
        "        #num_errosmn = num_errosmn+1\n",
        "\n",
        "      # Encontrar falta de espaço após vírgula e ponto e vírgula.\n",
        "      erros_falta_espaco = re.findall(r'[,;](?![\\s])', texto)\n",
        "      if(erros_falta_espaco):\n",
        "        num_erros_espaco = num_erros_espaco + 1\n",
        "\n",
        "      # Encontrar espaços desnecessários antes de pontuação.\n",
        "      erros_espaco_pontuacao = re.findall(r'\\s+([.,;:?!—\\'\"])', texto)\n",
        "      if(erros_espaco_pontuacao):\n",
        "        num_erros_espaco_pontuacao = num_erros_espaco_pontuacao + 1\n",
        "\n",
        "      # Encontrar erros de concordância de número em terceira pessoa (\"Ele cantam / Eles canta\")\n",
        "      erros_concordancia_numero = re.findall(r'\\b(eles|elas)\\s+\\w+[aeiou]\\b|\\b(ele|ela)\\s+\\w+[m]\\b',texto,re.I)\n",
        "      if(erros_concordancia_numero):\n",
        "        num_errosconcnum = num_errosconcnum + 1\n",
        "\n",
        "      # Encontrar parágrafos que não terminam com devida pontuação.\n",
        "      erros_sem_pontuação = re.findall(r'^[.!?;]$', texto)\n",
        "      if(erros_sem_pontuação):\n",
        "        num_erros_pontuacao = num_erros_pontuacao + 1\n",
        "\n",
        "      # Identificar uso indevido de espaços antes/depois de parênteses.\n",
        "      erros_espaco_parenteses = re.findall(r'\\(\\s+|\\s+\\)', texto)\n",
        "      if erros_espaco_parenteses:\n",
        "        num_erros_espaco_parenteses = num_erros_espaco_parenteses + 1\n",
        "\n",
        "\n",
        "\n",
        "    erros.append(\"Quantidade erro - espaços em excesso: {}\".format(count))\n",
        "    erros.append(\"Quantidade erro - minúsculo após pontuações: {}\".format(somador))\n",
        "    erros.append(\"Quantidade erro - parágrafos inciados com letra minúscula: {}\".format(aux))\n",
        "    erros.append(\"Quantidade erro - concordância de número: {}\".format(num_errosconcnum ))\n",
        "    erros.append(\"Quantidade erro - falta de espaço pós vírgula e ponto e vírgula: {}\".format(num_erros_espaco))\n",
        "    erros.append(\"Quantidade erro - espaços desnecessários antes de pontuação: {}\".format(num_erros_espaco_pontuacao))\n",
        "    erros.append(\"Quantidade erro - falta pontuação final de parágrafo: {}\".format(num_erros_pontuacao))\n",
        "    erros.append(\"Quantidade erro - erros nos espaços antes ou depois de parênteses: {}\".format(num_erros_espaco_parenteses))\n",
        "\n",
        "    count = 0\n",
        "    aux = 0\n",
        "    somador = 0\n",
        "    num_erros_pontuacao = 0\n",
        "    num_erros_espaco = 0\n",
        "    num_erros_espaco_pontuacao = 0\n",
        "    num_errosconcnum = 0\n",
        "    num_erros_espaco_parenteses = 0\n",
        "\n",
        "\n",
        "    return erros\n",
        "\n",
        "  else:\n",
        "    print(f\"Não foi possível obter o conteúdo do link: {link}\")\n",
        "    return []\n",
        "\n",
        "\n",
        "# URL dos capítulos em .html\n",
        "links = [\n",
        "    \"https://brasileiraspln.com/livro-pln/1a-edicao/parte4/cap7/cap7.html\",\n",
        "    \"https://brasileiraspln.com/livro-pln/1a-edicao/parte8/cap19/cap19.html\"\n",
        "]\n",
        "\n",
        "user_agents_list = [\n",
        "    'Mozilla/5.0 (iPad; CPU OS 12_2 like Mac OS X) AppleWebKit/605.1.15 (KHTML, like Gecko) Mobile/15E148',\n",
        "    'Mozilla/5.0 (Macintosh; Intel Mac OS X 10_15_7) AppleWebKit/537.36 (KHTML, like Gecko) Chrome/99.0.4844.83 Safari/537.36',\n",
        "    'Mozilla/5.0 (Windows NT 10.0; Win64; x64) AppleWebKit/537.36 (KHTML, like Gecko) Chrome/99.0.4844.83 Safari/537.36'\n",
        "]\n",
        "\n",
        "# Perpassa por ambos os links chamando a função \"encontra_erros\", retornando assim, todos os erros obtidos durante a validação.\n",
        "for link in links:\n",
        "    print(f\"Verificando erros em: {link}\")\n",
        "\n",
        "    erros_encontrados = encontra_erros(link, user_agents_list)\n",
        "\n",
        "    print(\"Erros encontrados:\")\n",
        "    for erro in erros_encontrados:\n",
        "        print(erro)\n",
        "\n",
        "\n",
        "\n",
        "\n",
        "\n"
      ],
      "metadata": {
        "id": "RyUailD5vi9E",
        "colab": {
          "base_uri": "https://localhost:8080/"
        },
        "outputId": "8cc25db2-9a78-4eea-b378-e20f1e4068d7"
      },
      "execution_count": null,
      "outputs": [
        {
          "output_type": "stream",
          "name": "stdout",
          "text": [
            "Verificando erros em: https://brasileiraspln.com/livro-pln/1a-edicao/parte4/cap7/cap7.html\n",
            "Erros encontrados:\n",
            "Quantidade erro - espaços em excesso: 1\n",
            "Quantidade erro - minúsculo após pontuações: 0\n",
            "Quantidade erro - parágrafos inciados com letra minúscula: 0\n",
            "Quantidade erro - concordância de número: 1\n",
            "Quantidade erro - falta de espaço pós vírgula e ponto e vírgula: 0\n",
            "Quantidade erro - espaços desnecessários antes de pontuação: 1\n",
            "Quantidade erro - falta pontuação final de parágrafo: 0\n",
            "Quantidade erro - erros nos espaços antes ou depois de parênteses: 0\n",
            "Verificando erros em: https://brasileiraspln.com/livro-pln/1a-edicao/parte8/cap19/cap19.html\n",
            "Erros encontrados:\n",
            "Quantidade erro - espaços em excesso: 0\n",
            "Quantidade erro - minúsculo após pontuações: 0\n",
            "Quantidade erro - parágrafos inciados com letra minúscula: 0\n",
            "Quantidade erro - concordância de número: 1\n",
            "Quantidade erro - falta de espaço pós vírgula e ponto e vírgula: 3\n",
            "Quantidade erro - espaços desnecessários antes de pontuação: 0\n",
            "Quantidade erro - falta pontuação final de parágrafo: 0\n",
            "Quantidade erro - erros nos espaços antes ou depois de parênteses: 2\n"
          ]
        }
      ]
    }
  ]
}